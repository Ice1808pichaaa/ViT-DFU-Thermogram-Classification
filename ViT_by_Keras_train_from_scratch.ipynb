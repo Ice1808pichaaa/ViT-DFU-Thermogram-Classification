{
  "cells": [
    {
      "cell_type": "markdown",
      "metadata": {
        "id": "FVdn1OacdL_B"
      },
      "source": [
        "# Setup"
      ]
    },
    {
      "cell_type": "code",
      "execution_count": null,
      "metadata": {
        "colab": {
          "base_uri": "https://localhost:8080/"
        },
        "id": "F2QqTk9SCY14",
        "outputId": "caa3d51a-e42d-4ef7-b88d-d5c942e2c00e"
      },
      "outputs": [
        {
          "output_type": "stream",
          "name": "stdout",
          "text": [
            "Looking in indexes: https://pypi.org/simple, https://us-python.pkg.dev/colab-wheels/public/simple/\n",
            "Collecting tensorflow-addons\n",
            "  Downloading tensorflow_addons-0.20.0-cp310-cp310-manylinux_2_17_x86_64.manylinux2014_x86_64.whl (591 kB)\n",
            "\u001b[2K     \u001b[90m━━━━━━━━━━━━━━━━━━━━━━━━━━━━━━━━━━━━━━━\u001b[0m \u001b[32m591.0/591.0 kB\u001b[0m \u001b[31m9.4 MB/s\u001b[0m eta \u001b[36m0:00:00\u001b[0m\n",
            "\u001b[?25hRequirement already satisfied: packaging in /usr/local/lib/python3.10/dist-packages (from tensorflow-addons) (23.1)\n",
            "Collecting typeguard<3.0.0,>=2.7 (from tensorflow-addons)\n",
            "  Downloading typeguard-2.13.3-py3-none-any.whl (17 kB)\n",
            "Installing collected packages: typeguard, tensorflow-addons\n",
            "Successfully installed tensorflow-addons-0.20.0 typeguard-2.13.3\n",
            "Looking in indexes: https://pypi.org/simple, https://us-python.pkg.dev/colab-wheels/public/simple/\n",
            "Requirement already satisfied: gdown in /usr/local/lib/python3.10/dist-packages (4.6.6)\n",
            "Collecting gdown\n",
            "  Downloading gdown-4.7.1-py3-none-any.whl (15 kB)\n",
            "Requirement already satisfied: filelock in /usr/local/lib/python3.10/dist-packages (from gdown) (3.12.0)\n",
            "Requirement already satisfied: requests[socks] in /usr/local/lib/python3.10/dist-packages (from gdown) (2.27.1)\n",
            "Requirement already satisfied: six in /usr/local/lib/python3.10/dist-packages (from gdown) (1.16.0)\n",
            "Requirement already satisfied: tqdm in /usr/local/lib/python3.10/dist-packages (from gdown) (4.65.0)\n",
            "Requirement already satisfied: beautifulsoup4 in /usr/local/lib/python3.10/dist-packages (from gdown) (4.11.2)\n",
            "Requirement already satisfied: soupsieve>1.2 in /usr/local/lib/python3.10/dist-packages (from beautifulsoup4->gdown) (2.4.1)\n",
            "Requirement already satisfied: urllib3<1.27,>=1.21.1 in /usr/local/lib/python3.10/dist-packages (from requests[socks]->gdown) (1.26.15)\n",
            "Requirement already satisfied: certifi>=2017.4.17 in /usr/local/lib/python3.10/dist-packages (from requests[socks]->gdown) (2022.12.7)\n",
            "Requirement already satisfied: charset-normalizer~=2.0.0 in /usr/local/lib/python3.10/dist-packages (from requests[socks]->gdown) (2.0.12)\n",
            "Requirement already satisfied: idna<4,>=2.5 in /usr/local/lib/python3.10/dist-packages (from requests[socks]->gdown) (3.4)\n",
            "Requirement already satisfied: PySocks!=1.5.7,>=1.5.6 in /usr/local/lib/python3.10/dist-packages (from requests[socks]->gdown) (1.7.1)\n",
            "Installing collected packages: gdown\n",
            "  Attempting uninstall: gdown\n",
            "    Found existing installation: gdown 4.6.6\n",
            "    Uninstalling gdown-4.6.6:\n",
            "      Successfully uninstalled gdown-4.6.6\n",
            "Successfully installed gdown-4.7.1\n"
          ]
        }
      ],
      "source": [
        "!pip install -U tensorflow-addons\n",
        "!pip install -U --no-cache-dir gdown --pre"
      ]
    },
    {
      "cell_type": "code",
      "execution_count": null,
      "metadata": {
        "id": "j7asu0sVCY16",
        "colab": {
          "base_uri": "https://localhost:8080/"
        },
        "outputId": "23d2a63d-5368-4a90-9f33-d23e9f306d8b"
      },
      "outputs": [
        {
          "output_type": "stream",
          "name": "stderr",
          "text": [
            "/usr/local/lib/python3.10/dist-packages/tensorflow_addons/utils/tfa_eol_msg.py:23: UserWarning: \n",
            "\n",
            "TensorFlow Addons (TFA) has ended development and introduction of new features.\n",
            "TFA has entered a minimal maintenance and release mode until a planned end of life in May 2024.\n",
            "Please modify downstream libraries to take dependencies from other repositories in our TensorFlow community (e.g. Keras, Keras-CV, and Keras-NLP). \n",
            "\n",
            "For more information see: https://github.com/tensorflow/addons/issues/2807 \n",
            "\n",
            "  warnings.warn(\n"
          ]
        }
      ],
      "source": [
        "import numpy as np\n",
        "import tensorflow as tf\n",
        "from tensorflow import keras\n",
        "from tensorflow.keras import layers\n",
        "import tensorflow_addons as tfa\n",
        "import gdown"
      ]
    },
    {
      "cell_type": "markdown",
      "metadata": {
        "id": "yQc0mj4JdjH9"
      },
      "source": [
        "# gdown 5 fold"
      ]
    },
    {
      "cell_type": "code",
      "source": [
        "# load fold1\n",
        "!gdown 1m6zm1FNZO4doAVOxaWIJ6H69RHrBmobV\n",
        "!unzip fold_data\\ 1.zip\n",
        "!rm -r fold_data\\ 1.zip"
      ],
      "metadata": {
        "id": "uQxj5z2paBtR"
      },
      "execution_count": null,
      "outputs": []
    },
    {
      "cell_type": "code",
      "source": [
        "# load fold 2\n",
        "!gdown 1PB0tDlPJUzefhucO-Ohjx5xDPVNrtLOS\n",
        "!unzip fold_data\\ 2.zip\n",
        "!rm -r fold_data\\ 2.zip"
      ],
      "metadata": {
        "id": "_JhJS2mOaD1d"
      },
      "execution_count": null,
      "outputs": []
    },
    {
      "cell_type": "code",
      "source": [
        "# load fold 3\n",
        "!gdown 1pGOpWyKlQh1Kk1KQ-c44gEjqwa4xWpGI\n",
        "!unzip fold_data\\ 3.zip\n",
        "!rm -r fold_data\\ 3.zip"
      ],
      "metadata": {
        "id": "52uX-rTXffFD"
      },
      "execution_count": null,
      "outputs": []
    },
    {
      "cell_type": "code",
      "source": [
        "# load fold 4\n",
        "!gdown 1_TXDt9NlgvpmjCLd-YqataIu8SbFYRp2\n",
        "!unzip fold_data\\ 4.zip\n",
        "!rm -r fold_data\\ 4.zip"
      ],
      "metadata": {
        "id": "K8RxrkK6ffZr"
      },
      "execution_count": null,
      "outputs": []
    },
    {
      "cell_type": "code",
      "source": [
        "# load fold 5\n",
        "!gdown 1NICWJ8bPP1C1j5ryQPRQG5jxuvniuGVz\n",
        "!unzip fold_data\\ 5.zip\n",
        "!rm -r fold_data\\ 5.zip"
      ],
      "metadata": {
        "id": "RIzyXQR_fftG"
      },
      "execution_count": null,
      "outputs": []
    },
    {
      "cell_type": "markdown",
      "source": [
        "# load data"
      ],
      "metadata": {
        "id": "sJ644inaaq-L"
      }
    },
    {
      "cell_type": "code",
      "execution_count": null,
      "metadata": {
        "colab": {
          "base_uri": "https://localhost:8080/"
        },
        "id": "Aocerg7UtcUy",
        "outputId": "b4c28682-d8ac-4b5e-de3d-7b9ba511a41b"
      },
      "outputs": [
        {
          "output_type": "stream",
          "name": "stdout",
          "text": [
            "Found 301 files belonging to 2 classes.\n",
            "Found 33 files belonging to 2 classes.\n",
            "--------------------------------\n",
            "x_train shape: (16, 32, 32, 3) - y_train shape: (16, 1)\n",
            "x_test shape: (16, 32, 32, 3) - y_test shape: (16, 1)\n"
          ]
        }
      ],
      "source": [
        "import tensorflow as tf\n",
        "import numpy as np\n",
        "\n",
        "# change fold here\n",
        "train_path = 'fold_data 5/train'\n",
        "test_path = 'fold_data 5/test'\n",
        "\n",
        "train_ds = tf.keras.preprocessing.image_dataset_from_directory(\n",
        "    train_path,\n",
        "    labels='inferred',\n",
        "    label_mode='binary',\n",
        "    validation_split=None,\n",
        "    subset=None,\n",
        "    seed=123,\n",
        "    image_size=(32, 32),\n",
        "    batch_size=16)\n",
        "\n",
        "test_ds = tf.keras.preprocessing.image_dataset_from_directory(\n",
        "    test_path,\n",
        "    labels='inferred',\n",
        "    label_mode='binary',\n",
        "    validation_split=None,\n",
        "    subset=None,\n",
        "    seed=123,\n",
        "    image_size=(32,32),\n",
        "    batch_size=16)\n",
        "\n",
        "x_train, y_train = next(iter(train_ds))\n",
        "x_test, y_test = next(iter(test_ds))\n",
        "print(\"--------------------------------\")\n",
        "print(f\"x_train shape: {x_train.shape} - y_train shape: {y_train.shape}\")\n",
        "print(f\"x_test shape: {x_test.shape} - y_test shape: {y_test.shape}\")"
      ]
    },
    {
      "cell_type": "markdown",
      "source": [
        "# Configure the hyperparameters"
      ],
      "metadata": {
        "id": "Q5IETS0beWT3"
      }
    },
    {
      "cell_type": "code",
      "source": [
        "num_classes = 1\n",
        "input_shape = (32, 32, 3)"
      ],
      "metadata": {
        "id": "acB2qMGzmUfY"
      },
      "execution_count": null,
      "outputs": []
    },
    {
      "cell_type": "code",
      "execution_count": null,
      "metadata": {
        "id": "9xeViCtjCY18"
      },
      "outputs": [],
      "source": [
        "learning_rate = 3e-4\n",
        "weight_decay = 0.0001\n",
        "batch_size = 16\n",
        "num_epochs = 30\n",
        "image_size = 32  # We'll resize input images to this size\n",
        "patch_size = 16  # Size of the patches to be extract from the input images\n",
        "num_patches = (image_size // patch_size) ** 2\n",
        "projection_dim = 64\n",
        "num_heads = 4\n",
        "transformer_units = [\n",
        "    projection_dim * 2,\n",
        "    projection_dim,\n",
        "]  # Size of the transformer layers\n",
        "transformer_layers = 2\n",
        "mlp_head_units = [1024, 64]  # Size of the dense layers of the final classifier"
      ]
    },
    {
      "cell_type": "markdown",
      "source": [
        "# Data Augmentation"
      ],
      "metadata": {
        "id": "tZbbGdcza2iq"
      }
    },
    {
      "cell_type": "code",
      "execution_count": null,
      "metadata": {
        "id": "QvRovvjtCY19"
      },
      "outputs": [],
      "source": [
        "data_augmentation = keras.Sequential(\n",
        "    [\n",
        "        layers.Normalization(),\n",
        "        layers.Resizing(image_size, image_size),\n",
        "        layers.RandomRotation(factor=0.02),\n",
        "        layers.RandomZoom(\n",
        "            height_factor=0.2, width_factor=0.2\n",
        "        ),\n",
        "    ],\n",
        "    name=\"data_augmentation\",\n",
        ")\n",
        "# Compute the mean and the variance of the training data for normalization.\n",
        "data_augmentation.layers[0].adapt(x_train)"
      ]
    },
    {
      "cell_type": "markdown",
      "source": [
        "# Model creation\n"
      ],
      "metadata": {
        "id": "xPd9fxXja83P"
      }
    },
    {
      "cell_type": "code",
      "execution_count": null,
      "metadata": {
        "id": "BG_JGzSgCY1-"
      },
      "outputs": [],
      "source": [
        "# Implement multilayer perceptron (MLP)\n",
        "def mlp(x, hidden_units, dropout_rate):\n",
        "    for units in hidden_units:\n",
        "        x = layers.Dense(units, activation=tf.nn.gelu)(x)\n",
        "        x = layers.Dropout(dropout_rate)(x)\n",
        "    return x"
      ]
    },
    {
      "cell_type": "code",
      "execution_count": null,
      "metadata": {
        "id": "jbcUJu5iCY1-"
      },
      "outputs": [],
      "source": [
        "# Implement patch creation as a layer\n",
        "class Patches(layers.Layer):\n",
        "    def __init__(self, patch_size):\n",
        "        super().__init__()\n",
        "        self.patch_size = patch_size\n",
        "\n",
        "    def call(self, images):\n",
        "        batch_size = tf.shape(images)[0]\n",
        "        patches = tf.image.extract_patches(\n",
        "            images=images,\n",
        "            sizes=[1, self.patch_size, self.patch_size, 1],\n",
        "            strides=[1, self.patch_size, self.patch_size, 1],\n",
        "            rates=[1, 1, 1, 1],\n",
        "            padding=\"VALID\",\n",
        "        )\n",
        "        patch_dims = patches.shape[-1]\n",
        "        patches = tf.reshape(patches, [batch_size, -1, patch_dims])\n",
        "        return patches"
      ]
    },
    {
      "cell_type": "code",
      "execution_count": null,
      "metadata": {
        "colab": {
          "base_uri": "https://localhost:8080/",
          "height": 741
        },
        "id": "ueJATYPnCY1_",
        "outputId": "95d6dc21-adc4-498a-8ad5-ab3c3259a82a"
      },
      "outputs": [
        {
          "output_type": "stream",
          "name": "stdout",
          "text": [
            "Image size: 32 X 32\n",
            "Patch size: 16 X 16\n",
            "Patches per image: 4\n",
            "Elements per patch: 768\n"
          ]
        },
        {
          "output_type": "display_data",
          "data": {
            "text/plain": [
              "<Figure size 400x400 with 1 Axes>"
            ],
            "image/png": "[encoded data removed]"
          },
          "metadata": {}
        },
        {
          "output_type": "display_data",
          "data": {
            "text/plain": [
              "<Figure size 400x400 with 4 Axes>"
            ],
            "image/png": "[encoded data removed]"
          },
          "metadata": {}
        }
      ],
      "source": [
        "# display patches for a sample image\n",
        "import matplotlib.pyplot as plt\n",
        "\n",
        "plt.figure(figsize=(4, 4))\n",
        "image = x_train[np.random.choice(range(x_train.shape[0]))]\n",
        "image_uint8 = tf.cast(image, dtype=tf.uint8)\n",
        "plt.imshow(image_uint8)\n",
        "plt.axis(\"off\")\n",
        "\n",
        "resized_image = tf.image.resize(\n",
        "    tf.convert_to_tensor([image]), size=(image_size, image_size)\n",
        ")\n",
        "patches = Patches(patch_size)(resized_image)\n",
        "print(f\"Image size: {image_size} X {image_size}\")\n",
        "print(f\"Patch size: {patch_size} X {patch_size}\")\n",
        "print(f\"Patches per image: {patches.shape[1]}\")\n",
        "print(f\"Elements per patch: {patches.shape[-1]}\")\n",
        "\n",
        "n = int(np.sqrt(patches.shape[1]))\n",
        "plt.figure(figsize=(4, 4))\n",
        "for i, patch in enumerate(patches[0]):\n",
        "    ax = plt.subplot(n, n, i + 1)\n",
        "    patch_img = tf.reshape(patch, (patch_size, patch_size, 3))\n",
        "    plt.imshow(patch_img.numpy().astype(\"uint8\"))\n",
        "    plt.axis(\"off\")"
      ]
    },
    {
      "cell_type": "code",
      "execution_count": null,
      "metadata": {
        "id": "jpI-SpczCY1_"
      },
      "outputs": [],
      "source": [
        "# Implement the patch encoding layer\n",
        "class PatchEncoder(layers.Layer):\n",
        "    def __init__(self, num_patches, projection_dim):\n",
        "        super().__init__()\n",
        "        self.num_patches = num_patches\n",
        "        self.projection = layers.Dense(units=projection_dim)\n",
        "        self.position_embedding = layers.Embedding(\n",
        "            input_dim=num_patches, output_dim=projection_dim\n",
        "        )\n",
        "\n",
        "    def call(self, patch):\n",
        "        positions = tf.range(start=0, limit=self.num_patches, delta=1)\n",
        "        encoded = self.projection(patch) + self.position_embedding(positions)\n",
        "        return encoded"
      ]
    },
    {
      "cell_type": "code",
      "execution_count": null,
      "metadata": {
        "id": "XPLixtHSCY2A"
      },
      "outputs": [],
      "source": [
        "# Build the ViT model\n",
        "def create_vit_classifier():\n",
        "    inputs = layers.Input(shape=input_shape)\n",
        "    # Augment data.\n",
        "    augmented = data_augmentation(inputs)\n",
        "    # Create patches.\n",
        "    patches = Patches(patch_size)(augmented)\n",
        "    # Encode patches.\n",
        "    encoded_patches = PatchEncoder(num_patches, projection_dim)(patches)\n",
        "\n",
        "    # Create multiple layers of the Transformer block.\n",
        "    for _ in range(transformer_layers):\n",
        "        # Layer normalization 1.\n",
        "        x1 = layers.LayerNormalization(epsilon=1e-6)(encoded_patches)\n",
        "        # Create a multi-head attention layer.\n",
        "        attention_output = layers.MultiHeadAttention(\n",
        "            num_heads=num_heads, key_dim=projection_dim, dropout=0.1\n",
        "        )(x1, x1)\n",
        "        # Skip connection 1.\n",
        "        x2 = layers.Add()([attention_output, encoded_patches])\n",
        "        # Layer normalization 2.\n",
        "        x3 = layers.LayerNormalization(epsilon=1e-6)(x2)\n",
        "        # MLP.\n",
        "        x3 = mlp(x3, hidden_units=transformer_units, dropout_rate=0.1)\n",
        "        # Skip connection 2.\n",
        "        encoded_patches = layers.Add()([x3, x2])\n",
        "\n",
        "    # Create a [batch_size, projection_dim] tensor.\n",
        "    representation = layers.LayerNormalization(epsilon=1e-6)(encoded_patches)\n",
        "    representation = layers.Flatten()(representation)\n",
        "    representation = layers.Dropout(0.5)(representation)\n",
        "    # Add MLP.\n",
        "    features = mlp(representation, hidden_units=mlp_head_units, dropout_rate=0.5)\n",
        "\n",
        "    # Classify outputs.\n",
        "    logits = layers.Dense(num_classes, activation='sigmoid')(features)\n",
        "    # logits = layers.Dense(num_classes)(features)\n",
        "\n",
        "    # x1 = keras.layers.Dense(num_classes, activation='sigmoid')(features)\n",
        "    # added = keras.layers.Add()([x1])\n",
        "    # out = tf.keras.layers.Dense(num_classes)(added)\n",
        "\n",
        "    # Create the Keras model.\n",
        "    model = keras.Model(inputs=inputs, outputs= logits)\n",
        "    return model"
      ]
    },
    {
      "cell_type": "markdown",
      "metadata": {
        "id": "j4BHi84ed-Wz"
      },
      "source": [
        "# Compile and train the model"
      ]
    },
    {
      "cell_type": "code",
      "source": [
        "from keras import backend as K\n",
        "def get_f1(y_true, y_pred):\n",
        "    true_positives = K.sum(K.round(K.clip(y_true * y_pred, 0, 1)))\n",
        "    possible_positives = K.sum(K.round(K.clip(y_true, 0, 1)))\n",
        "    predicted_positives = K.sum(K.round(K.clip(y_pred, 0, 1)))\n",
        "    precision = true_positives / (predicted_positives + K.epsilon())\n",
        "    recall = true_positives / (possible_positives + K.epsilon())\n",
        "    f1_val = 2*(precision*recall)/(precision+recall+K.epsilon())\n",
        "    return f1_val"
      ],
      "metadata": {
        "id": "RJWI-TGv2jGm"
      },
      "execution_count": null,
      "outputs": []
    },
    {
      "cell_type": "code",
      "execution_count": null,
      "metadata": {
        "colab": {
          "base_uri": "https://localhost:8080/"
        },
        "id": "8dSmBMfvCY2B",
        "outputId": "d5445465-70e2-4a8e-e492-8d19744f4486"
      },
      "outputs": [
        {
          "output_type": "stream",
          "name": "stdout",
          "text": [
            "Epoch 1/30\n",
            "1/1 [==============================] - 5s 5s/step - loss: 0.9574 - accuracy: 0.4286 - get_f1: 0.5000 - val_loss: 0.5042 - val_accuracy: 1.0000 - val_get_f1: 1.0000\n",
            "Epoch 2/30\n",
            "1/1 [==============================] - 0s 55ms/step - loss: 0.5730 - accuracy: 0.6429 - get_f1: 0.7368 - val_loss: 0.3709 - val_accuracy: 1.0000 - val_get_f1: 1.0000\n",
            "Epoch 3/30\n",
            "1/1 [==============================] - 0s 59ms/step - loss: 0.8190 - accuracy: 0.6429 - get_f1: 0.7368 - val_loss: 0.2728 - val_accuracy: 1.0000 - val_get_f1: 1.0000\n",
            "Epoch 4/30\n",
            "1/1 [==============================] - 0s 55ms/step - loss: 0.6807 - accuracy: 0.6429 - get_f1: 0.7619 - val_loss: 0.2061 - val_accuracy: 1.0000 - val_get_f1: 1.0000\n",
            "Epoch 5/30\n",
            "1/1 [==============================] - 0s 48ms/step - loss: 0.5387 - accuracy: 0.7143 - get_f1: 0.8182 - val_loss: 0.1583 - val_accuracy: 1.0000 - val_get_f1: 1.0000\n",
            "Epoch 6/30\n",
            "1/1 [==============================] - 0s 53ms/step - loss: 0.4570 - accuracy: 0.7857 - get_f1: 0.8696 - val_loss: 0.1229 - val_accuracy: 1.0000 - val_get_f1: 1.0000\n",
            "Epoch 7/30\n",
            "1/1 [==============================] - 0s 51ms/step - loss: 0.6190 - accuracy: 0.7143 - get_f1: 0.8333 - val_loss: 0.0976 - val_accuracy: 1.0000 - val_get_f1: 1.0000\n",
            "Epoch 8/30\n",
            "1/1 [==============================] - 0s 51ms/step - loss: 0.3846 - accuracy: 0.7857 - get_f1: 0.8800 - val_loss: 0.0792 - val_accuracy: 1.0000 - val_get_f1: 1.0000\n",
            "Epoch 9/30\n",
            "1/1 [==============================] - 0s 48ms/step - loss: 0.4658 - accuracy: 0.6429 - get_f1: 0.7826 - val_loss: 0.0651 - val_accuracy: 1.0000 - val_get_f1: 1.0000\n",
            "Epoch 10/30\n",
            "1/1 [==============================] - 0s 51ms/step - loss: 0.3466 - accuracy: 0.8571 - get_f1: 0.9231 - val_loss: 0.0542 - val_accuracy: 1.0000 - val_get_f1: 1.0000\n",
            "Epoch 11/30\n",
            "1/1 [==============================] - 0s 49ms/step - loss: 0.5754 - accuracy: 0.6429 - get_f1: 0.7826 - val_loss: 0.0462 - val_accuracy: 1.0000 - val_get_f1: 1.0000\n",
            "Epoch 12/30\n",
            "1/1 [==============================] - 0s 47ms/step - loss: 0.3837 - accuracy: 0.7143 - get_f1: 0.8182 - val_loss: 0.0394 - val_accuracy: 1.0000 - val_get_f1: 1.0000\n",
            "Epoch 13/30\n",
            "1/1 [==============================] - 0s 50ms/step - loss: 0.2258 - accuracy: 0.8571 - get_f1: 0.9167 - val_loss: 0.0342 - val_accuracy: 1.0000 - val_get_f1: 1.0000\n",
            "Epoch 14/30\n",
            "1/1 [==============================] - 0s 48ms/step - loss: 0.3218 - accuracy: 0.8571 - get_f1: 0.9167 - val_loss: 0.0301 - val_accuracy: 1.0000 - val_get_f1: 1.0000\n",
            "Epoch 15/30\n",
            "1/1 [==============================] - 0s 51ms/step - loss: 0.2547 - accuracy: 0.9286 - get_f1: 0.9600 - val_loss: 0.0263 - val_accuracy: 1.0000 - val_get_f1: 1.0000\n",
            "Epoch 16/30\n",
            "1/1 [==============================] - 0s 48ms/step - loss: 0.3659 - accuracy: 0.8571 - get_f1: 0.9231 - val_loss: 0.0236 - val_accuracy: 1.0000 - val_get_f1: 1.0000\n",
            "Epoch 17/30\n",
            "1/1 [==============================] - 0s 50ms/step - loss: 0.1849 - accuracy: 0.9286 - get_f1: 0.9600 - val_loss: 0.0212 - val_accuracy: 1.0000 - val_get_f1: 1.0000\n",
            "Epoch 18/30\n",
            "1/1 [==============================] - 0s 47ms/step - loss: 0.2368 - accuracy: 0.8571 - get_f1: 0.9231 - val_loss: 0.0193 - val_accuracy: 1.0000 - val_get_f1: 1.0000\n",
            "Epoch 19/30\n",
            "1/1 [==============================] - 0s 50ms/step - loss: 0.2879 - accuracy: 0.8571 - get_f1: 0.9231 - val_loss: 0.0178 - val_accuracy: 1.0000 - val_get_f1: 1.0000\n",
            "Epoch 20/30\n",
            "1/1 [==============================] - 0s 47ms/step - loss: 0.2918 - accuracy: 0.9286 - get_f1: 0.9600 - val_loss: 0.0166 - val_accuracy: 1.0000 - val_get_f1: 1.0000\n",
            "Epoch 21/30\n",
            "1/1 [==============================] - 0s 49ms/step - loss: 0.2527 - accuracy: 0.8571 - get_f1: 0.9167 - val_loss: 0.0157 - val_accuracy: 1.0000 - val_get_f1: 1.0000\n",
            "Epoch 22/30\n",
            "1/1 [==============================] - 0s 49ms/step - loss: 0.1693 - accuracy: 0.9286 - get_f1: 0.9600 - val_loss: 0.0148 - val_accuracy: 1.0000 - val_get_f1: 1.0000\n",
            "Epoch 23/30\n",
            "1/1 [==============================] - 0s 47ms/step - loss: 0.0546 - accuracy: 1.0000 - get_f1: 1.0000 - val_loss: 0.0140 - val_accuracy: 1.0000 - val_get_f1: 1.0000\n",
            "Epoch 24/30\n",
            "1/1 [==============================] - 0s 53ms/step - loss: 0.2253 - accuracy: 0.8571 - get_f1: 0.9167 - val_loss: 0.0134 - val_accuracy: 1.0000 - val_get_f1: 1.0000\n",
            "Epoch 25/30\n",
            "1/1 [==============================] - 0s 50ms/step - loss: 0.0755 - accuracy: 1.0000 - get_f1: 1.0000 - val_loss: 0.0128 - val_accuracy: 1.0000 - val_get_f1: 1.0000\n",
            "Epoch 26/30\n",
            "1/1 [==============================] - 0s 52ms/step - loss: 0.0869 - accuracy: 1.0000 - get_f1: 1.0000 - val_loss: 0.0123 - val_accuracy: 1.0000 - val_get_f1: 1.0000\n",
            "Epoch 27/30\n",
            "1/1 [==============================] - 0s 48ms/step - loss: 0.2075 - accuracy: 0.9286 - get_f1: 0.9600 - val_loss: 0.0117 - val_accuracy: 1.0000 - val_get_f1: 1.0000\n",
            "Epoch 28/30\n",
            "1/1 [==============================] - 0s 52ms/step - loss: 0.1498 - accuracy: 0.8571 - get_f1: 0.9167 - val_loss: 0.0110 - val_accuracy: 1.0000 - val_get_f1: 1.0000\n",
            "Epoch 29/30\n",
            "1/1 [==============================] - 0s 48ms/step - loss: 0.2705 - accuracy: 0.8571 - get_f1: 0.9231 - val_loss: 0.0103 - val_accuracy: 1.0000 - val_get_f1: 1.0000\n",
            "Epoch 30/30\n",
            "1/1 [==============================] - 0s 48ms/step - loss: 0.2100 - accuracy: 0.8571 - get_f1: 0.9167 - val_loss: 0.0096 - val_accuracy: 1.0000 - val_get_f1: 1.0000\n",
            "1/1 [==============================] - 0s 31ms/step - loss: 0.5367 - accuracy: 0.8750 - get_f1: 0.9231\n",
            "Test accuracy: 87.5%\n",
            "Test loss: 0.5367337465286255\n",
            "Test f1 score: 0.923076868057251\n"
          ]
        }
      ],
      "source": [
        "def run_experiment(model):\n",
        "    optimizer = tfa.optimizers.AdamW(\n",
        "        learning_rate=learning_rate, weight_decay=weight_decay\n",
        "    )\n",
        "\n",
        "    model.compile(\n",
        "        optimizer=optimizer,\n",
        "        loss=keras.losses.BinaryCrossentropy(from_logits=False),\n",
        "        metrics=[\n",
        "           keras.metrics.BinaryAccuracy(name = 'accuracy'),\n",
        "           get_f1\n",
        "        ],\n",
        "    )\n",
        "\n",
        "    checkpoint_filepath = \"/content/tmp/checkpoint\"\n",
        "    checkpoint_callback = keras.callbacks.ModelCheckpoint(\n",
        "        checkpoint_filepath,\n",
        "        monitor=\"val_accuracy\",\n",
        "        save_best_only=True,\n",
        "        save_weights_only=True,\n",
        "    )\n",
        "\n",
        "    history = model.fit(\n",
        "        x=x_train,\n",
        "        y=y_train,\n",
        "        batch_size=batch_size,\n",
        "        epochs=num_epochs,\n",
        "        validation_split=0.1,\n",
        "        callbacks=[checkpoint_callback],\n",
        "    )\n",
        "\n",
        "    model.load_weights(checkpoint_filepath)\n",
        "    loss, accuracy,f1_score = model.evaluate(x_test, y_test)\n",
        "    print(f\"Test accuracy: {accuracy * 100}%\")\n",
        "    print(f\"Test loss: {loss}\")\n",
        "    print(f\"Test f1 score: {f1_score}\")\n",
        "    return history\n",
        "\n",
        "\n",
        "vit_classifier = create_vit_classifier()\n",
        "history = run_experiment(vit_classifier)"
      ]
    },
    {
      "cell_type": "code",
      "execution_count": null,
      "metadata": {
        "id": "514IMXJ1g5oz",
        "outputId": "1b31e53b-a4c9-41c2-de99-8e7e4922114b",
        "colab": {
          "base_uri": "https://localhost:8080/"
        }
      },
      "outputs": [
        {
          "output_type": "execute_result",
          "data": {
            "text/plain": [
              "{'loss': [0.9573556184768677,\n",
              "  0.5729662775993347,\n",
              "  0.8189656138420105,\n",
              "  0.6807164549827576,\n",
              "  0.5387225151062012,\n",
              "  0.456985205411911,\n",
              "  0.619021475315094,\n",
              "  0.384606271982193,\n",
              "  0.4657551944255829,\n",
              "  0.34663769602775574,\n",
              "  0.5754057168960571,\n",
              "  0.3837154507637024,\n",
              "  0.22584107518196106,\n",
              "  0.32183927297592163,\n",
              "  0.25465065240859985,\n",
              "  0.3658832907676697,\n",
              "  0.1848885715007782,\n",
              "  0.23677070438861847,\n",
              "  0.2878871560096741,\n",
              "  0.29179054498672485,\n",
              "  0.25265589356422424,\n",
              "  0.16931697726249695,\n",
              "  0.05459631234407425,\n",
              "  0.2252732664346695,\n",
              "  0.0755179151892662,\n",
              "  0.08693276345729828,\n",
              "  0.20747654139995575,\n",
              "  0.1498268097639084,\n",
              "  0.2705492079257965,\n",
              "  0.210038423538208],\n",
              " 'accuracy': [0.4285714328289032,\n",
              "  0.6428571343421936,\n",
              "  0.6428571343421936,\n",
              "  0.6428571343421936,\n",
              "  0.7142857313156128,\n",
              "  0.7857142686843872,\n",
              "  0.7142857313156128,\n",
              "  0.7857142686843872,\n",
              "  0.6428571343421936,\n",
              "  0.8571428656578064,\n",
              "  0.6428571343421936,\n",
              "  0.7142857313156128,\n",
              "  0.8571428656578064,\n",
              "  0.8571428656578064,\n",
              "  0.9285714030265808,\n",
              "  0.8571428656578064,\n",
              "  0.9285714030265808,\n",
              "  0.8571428656578064,\n",
              "  0.8571428656578064,\n",
              "  0.9285714030265808,\n",
              "  0.8571428656578064,\n",
              "  0.9285714030265808,\n",
              "  1.0,\n",
              "  0.8571428656578064,\n",
              "  1.0,\n",
              "  1.0,\n",
              "  0.9285714030265808,\n",
              "  0.8571428656578064,\n",
              "  0.8571428656578064,\n",
              "  0.8571428656578064],\n",
              " 'get_f1': [0.4999999701976776,\n",
              "  0.7368420362472534,\n",
              "  0.7368420362472534,\n",
              "  0.7619047164916992,\n",
              "  0.8181816935539246,\n",
              "  0.8695651292800903,\n",
              "  0.8333332538604736,\n",
              "  0.8799999356269836,\n",
              "  0.782608687877655,\n",
              "  0.923076868057251,\n",
              "  0.782608687877655,\n",
              "  0.8181816935539246,\n",
              "  0.9166666269302368,\n",
              "  0.9166666269302368,\n",
              "  0.9599999785423279,\n",
              "  0.923076868057251,\n",
              "  0.9599999785423279,\n",
              "  0.923076868057251,\n",
              "  0.923076868057251,\n",
              "  0.9599999785423279,\n",
              "  0.9166666269302368,\n",
              "  0.9599999785423279,\n",
              "  1.0,\n",
              "  0.9166666269302368,\n",
              "  1.0,\n",
              "  1.0,\n",
              "  0.9599999785423279,\n",
              "  0.9166666269302368,\n",
              "  0.923076868057251,\n",
              "  0.9166666269302368],\n",
              " 'val_loss': [0.504163920879364,\n",
              "  0.3709273338317871,\n",
              "  0.27279388904571533,\n",
              "  0.20607861876487732,\n",
              "  0.15828818082809448,\n",
              "  0.12291689217090607,\n",
              "  0.09759199619293213,\n",
              "  0.07923116534948349,\n",
              "  0.06508336216211319,\n",
              "  0.05421962961554527,\n",
              "  0.0461830273270607,\n",
              "  0.03943515568971634,\n",
              "  0.034212350845336914,\n",
              "  0.030068539083003998,\n",
              "  0.026327569037675858,\n",
              "  0.023564625531435013,\n",
              "  0.021221719682216644,\n",
              "  0.019346557557582855,\n",
              "  0.017763487994670868,\n",
              "  0.016559138894081116,\n",
              "  0.015655141323804855,\n",
              "  0.014819948002696037,\n",
              "  0.014020547270774841,\n",
              "  0.013433576561510563,\n",
              "  0.012847157195210457,\n",
              "  0.012280607596039772,\n",
              "  0.01167134940624237,\n",
              "  0.011043863371014595,\n",
              "  0.010297156870365143,\n",
              "  0.009565536864101887],\n",
              " 'val_accuracy': [1.0,\n",
              "  1.0,\n",
              "  1.0,\n",
              "  1.0,\n",
              "  1.0,\n",
              "  1.0,\n",
              "  1.0,\n",
              "  1.0,\n",
              "  1.0,\n",
              "  1.0,\n",
              "  1.0,\n",
              "  1.0,\n",
              "  1.0,\n",
              "  1.0,\n",
              "  1.0,\n",
              "  1.0,\n",
              "  1.0,\n",
              "  1.0,\n",
              "  1.0,\n",
              "  1.0,\n",
              "  1.0,\n",
              "  1.0,\n",
              "  1.0,\n",
              "  1.0,\n",
              "  1.0,\n",
              "  1.0,\n",
              "  1.0,\n",
              "  1.0,\n",
              "  1.0,\n",
              "  1.0],\n",
              " 'val_get_f1': [1.0,\n",
              "  1.0,\n",
              "  1.0,\n",
              "  1.0,\n",
              "  1.0,\n",
              "  1.0,\n",
              "  1.0,\n",
              "  1.0,\n",
              "  1.0,\n",
              "  1.0,\n",
              "  1.0,\n",
              "  1.0,\n",
              "  1.0,\n",
              "  1.0,\n",
              "  1.0,\n",
              "  1.0,\n",
              "  1.0,\n",
              "  1.0,\n",
              "  1.0,\n",
              "  1.0,\n",
              "  1.0,\n",
              "  1.0,\n",
              "  1.0,\n",
              "  1.0,\n",
              "  1.0,\n",
              "  1.0,\n",
              "  1.0,\n",
              "  1.0,\n",
              "  1.0,\n",
              "  1.0]}"
            ]
          },
          "metadata": {},
          "execution_count": 175
        }
      ],
      "source": [
        "history.history"
      ]
    },
    {
      "cell_type": "markdown",
      "source": [
        "#Evaluation"
      ],
      "metadata": {
        "id": "14vbT7NHhdVL"
      }
    },
    {
      "cell_type": "code",
      "source": [
        "# summarize history for loss\n",
        "plt.plot(history.history['accuracy'])\n",
        "plt.plot(history.history['val_accuracy'])\n",
        "plt.title('model accuracy')\n",
        "plt.ylabel('accuracy')\n",
        "plt.xlabel('epoch')\n",
        "plt.legend(['train_accuracy','val_accuracy'], loc='upper left')\n",
        "plt.show()"
      ],
      "metadata": {
        "id": "cqRjshAnYSHU"
      },
      "execution_count": null,
      "outputs": []
    },
    {
      "cell_type": "code",
      "source": [
        "# summarize history for loss\n",
        "plt.plot(history.history['loss'])\n",
        "plt.plot(history.history['val_loss'])\n",
        "plt.title('model loss')\n",
        "plt.ylabel('loss')\n",
        "plt.xlabel('epoch')\n",
        "plt.legend(['train', 'valid'], loc='upper left')\n",
        "plt.show()"
      ],
      "metadata": {
        "colab": {
          "base_uri": "https://localhost:8080/",
          "height": 472
        },
        "id": "C2rI5Wi9GFi4",
        "outputId": "52a812d5-112b-443c-c882-dd0979c0c560"
      },
      "execution_count": null,
      "outputs": [
        {
          "output_type": "display_data",
          "data": {
            "text/plain": [
              "<Figure size 640x480 with 1 Axes>"
            ],
            "image/png": "[encoded data removed]"
          },
          "metadata": {}
        }
      ]
    },
    {
      "cell_type": "code",
      "source": [
        "model = vit_classifier"
      ],
      "metadata": {
        "id": "TceUlg__l0Hu"
      },
      "execution_count": null,
      "outputs": []
    },
    {
      "cell_type": "code",
      "source": [
        "model.predict(x_test)"
      ],
      "metadata": {
        "colab": {
          "base_uri": "https://localhost:8080/"
        },
        "id": "EhNbjgLJUuUN",
        "outputId": "ab80f80e-9750-403d-eb5e-f2d53b6da3a2"
      },
      "execution_count": null,
      "outputs": [
        {
          "output_type": "stream",
          "name": "stdout",
          "text": [
            "1/1 [==============================] - 0s 398ms/step\n"
          ]
        },
        {
          "output_type": "execute_result",
          "data": {
            "text/plain": [
              "array([[0.628611  ],\n",
              "       [0.59049916],\n",
              "       [0.50580776],\n",
              "       [0.6120158 ],\n",
              "       [0.44475266],\n",
              "       [0.44005406],\n",
              "       [0.65555286],\n",
              "       [0.5167428 ],\n",
              "       [0.44145843],\n",
              "       [0.44879347],\n",
              "       [0.7413401 ],\n",
              "       [0.60578644],\n",
              "       [0.66665035],\n",
              "       [0.667449  ],\n",
              "       [0.6073542 ],\n",
              "       [0.64412504]], dtype=float32)"
            ]
          },
          "metadata": {},
          "execution_count": 179
        }
      ]
    },
    {
      "cell_type": "code",
      "source": [
        "# Evaluating with test data\n",
        "model = vit_classifier\n",
        "print(\"Evaluate on test data\")\n",
        "\n",
        "loss, accuracy, f1_score = model.evaluate(x_test, y_test)\n",
        "\n",
        "print(f\"Test accuracy: {accuracy}\")\n",
        "print(f\"Test loss: {loss}\")\n",
        "print(f\"Test f1 score: {f1_score}\")"
      ],
      "metadata": {
        "id": "ER3eiQJWVt2C",
        "colab": {
          "base_uri": "https://localhost:8080/"
        },
        "outputId": "d26c3390-2753-44dd-b106-eebaaa3c5541"
      },
      "execution_count": null,
      "outputs": [
        {
          "output_type": "stream",
          "name": "stdout",
          "text": [
            "Evaluate on test data\n",
            "1/1 [==============================] - 0s 30ms/step - loss: 0.5367 - accuracy: 0.8750 - get_f1: 0.9231\n",
            "Test accuracy: 0.875\n",
            "Test loss: 0.5367337465286255\n",
            "Test f1 score: 0.923076868057251\n"
          ]
        }
      ]
    }
  ],
  "metadata": {
    "colab": {
      "provenance": [],
      "machine_shape": "hm",
      "gpuType": "T4",
      "collapsed_sections": [
        "ROGel9NhdVVM",
        "yQc0mj4JdjH9"
      ]
    },
    "kernelspec": {
      "display_name": "Python 3",
      "name": "python3"
    },
    "language_info": {
      "codemirror_mode": {
        "name": "ipython",
        "version": 3
      },
      "file_extension": ".py",
      "mimetype": "text/x-python",
      "name": "python",
      "nbconvert_exporter": "python",
      "pygments_lexer": "ipython3",
      "version": "3.10.11"
    },
    "accelerator": "GPU"
  },
  "nbformat": 4,
  "nbformat_minor": 0
}